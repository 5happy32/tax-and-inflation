{
 "cells": [
  {
   "cell_type": "code",
   "execution_count": 1,
   "id": "c9d3ffc0-0737-44f6-b90e-43c72a259343",
   "metadata": {},
   "outputs": [],
   "source": [
    "import pandas as pd\n",
    "import seaborn as sns\n",
    "import matplotlib.pyplot as plt\n",
    "import statsmodels.api as sm\n",
    "from scipy.stats import pearsonr"
   ]
  },
  {
   "cell_type": "code",
   "execution_count": 2,
   "id": "cf48565e-38aa-41bd-8034-0e9b07a226fa",
   "metadata": {},
   "outputs": [],
   "source": [
    "# Read Data\n",
    "df = pd.read_csv(R\"C:\\Users\\happy\\Downloads\\tax_inflation_project.csv\")\n"
   ]
  },
  {
   "cell_type": "code",
   "execution_count": 3,
   "id": "c2e98e3e-caad-40d2-94a8-76591a6e57c1",
   "metadata": {},
   "outputs": [
    {
     "data": {
      "text/html": [
       "<div>\n",
       "<style scoped>\n",
       "    .dataframe tbody tr th:only-of-type {\n",
       "        vertical-align: middle;\n",
       "    }\n",
       "\n",
       "    .dataframe tbody tr th {\n",
       "        vertical-align: top;\n",
       "    }\n",
       "\n",
       "    .dataframe thead th {\n",
       "        text-align: right;\n",
       "    }\n",
       "</style>\n",
       "<table border=\"1\" class=\"dataframe\">\n",
       "  <thead>\n",
       "    <tr style=\"text-align: right;\">\n",
       "      <th></th>\n",
       "      <th>Country Name</th>\n",
       "      <th>Country Code</th>\n",
       "      <th>Time</th>\n",
       "      <th>Time Code</th>\n",
       "      <th>Tax revenue (% of GDP) [GC.TAX.TOTL.GD.ZS]</th>\n",
       "      <th>Inflation, consumer prices (annual %) [FP.CPI.TOTL.ZG]</th>\n",
       "      <th>GDP (current US$) [NY.GDP.MKTP.CD]</th>\n",
       "    </tr>\n",
       "  </thead>\n",
       "  <tbody>\n",
       "    <tr>\n",
       "      <th>0</th>\n",
       "      <td>United States</td>\n",
       "      <td>USA</td>\n",
       "      <td>2014</td>\n",
       "      <td>YR2014</td>\n",
       "      <td>10.89974817</td>\n",
       "      <td>1.622222977</td>\n",
       "      <td>1.760000e+13</td>\n",
       "    </tr>\n",
       "    <tr>\n",
       "      <th>1</th>\n",
       "      <td>United States</td>\n",
       "      <td>USA</td>\n",
       "      <td>2015</td>\n",
       "      <td>YR2015</td>\n",
       "      <td>11.18282796</td>\n",
       "      <td>0.118627136</td>\n",
       "      <td>1.830000e+13</td>\n",
       "    </tr>\n",
       "    <tr>\n",
       "      <th>2</th>\n",
       "      <td>United States</td>\n",
       "      <td>USA</td>\n",
       "      <td>2016</td>\n",
       "      <td>YR2016</td>\n",
       "      <td>10.85451499</td>\n",
       "      <td>1.261583206</td>\n",
       "      <td>1.880000e+13</td>\n",
       "    </tr>\n",
       "    <tr>\n",
       "      <th>3</th>\n",
       "      <td>United States</td>\n",
       "      <td>USA</td>\n",
       "      <td>2017</td>\n",
       "      <td>YR2017</td>\n",
       "      <td>11.50388673</td>\n",
       "      <td>2.130110004</td>\n",
       "      <td>1.960000e+13</td>\n",
       "    </tr>\n",
       "    <tr>\n",
       "      <th>4</th>\n",
       "      <td>United States</td>\n",
       "      <td>USA</td>\n",
       "      <td>2018</td>\n",
       "      <td>YR2018</td>\n",
       "      <td>9.929538941</td>\n",
       "      <td>2.442583297</td>\n",
       "      <td>2.070000e+13</td>\n",
       "    </tr>\n",
       "    <tr>\n",
       "      <th>...</th>\n",
       "      <td>...</td>\n",
       "      <td>...</td>\n",
       "      <td>...</td>\n",
       "      <td>...</td>\n",
       "      <td>...</td>\n",
       "      <td>...</td>\n",
       "      <td>...</td>\n",
       "    </tr>\n",
       "    <tr>\n",
       "      <th>195</th>\n",
       "      <td>China</td>\n",
       "      <td>CHN</td>\n",
       "      <td>2019</td>\n",
       "      <td>YR2019</td>\n",
       "      <td>8.49286377</td>\n",
       "      <td>2.899234164</td>\n",
       "      <td>1.430000e+13</td>\n",
       "    </tr>\n",
       "    <tr>\n",
       "      <th>196</th>\n",
       "      <td>China</td>\n",
       "      <td>CHN</td>\n",
       "      <td>2020</td>\n",
       "      <td>YR2020</td>\n",
       "      <td>8.090626216</td>\n",
       "      <td>2.419421895</td>\n",
       "      <td>1.470000e+13</td>\n",
       "    </tr>\n",
       "    <tr>\n",
       "      <th>197</th>\n",
       "      <td>China</td>\n",
       "      <td>CHN</td>\n",
       "      <td>2021</td>\n",
       "      <td>YR2021</td>\n",
       "      <td>7.965128046</td>\n",
       "      <td>0.981015136</td>\n",
       "      <td>1.780000e+13</td>\n",
       "    </tr>\n",
       "    <tr>\n",
       "      <th>198</th>\n",
       "      <td>China</td>\n",
       "      <td>CHN</td>\n",
       "      <td>2022</td>\n",
       "      <td>YR2022</td>\n",
       "      <td>7.700873217</td>\n",
       "      <td>1.973575557</td>\n",
       "      <td>1.790000e+13</td>\n",
       "    </tr>\n",
       "    <tr>\n",
       "      <th>199</th>\n",
       "      <td>China</td>\n",
       "      <td>CHN</td>\n",
       "      <td>2023</td>\n",
       "      <td>YR2023</td>\n",
       "      <td>..</td>\n",
       "      <td>0.234836829</td>\n",
       "      <td>1.780000e+13</td>\n",
       "    </tr>\n",
       "  </tbody>\n",
       "</table>\n",
       "<p>200 rows × 7 columns</p>\n",
       "</div>"
      ],
      "text/plain": [
       "      Country Name Country Code  Time Time Code  \\\n",
       "0    United States          USA  2014    YR2014   \n",
       "1    United States          USA  2015    YR2015   \n",
       "2    United States          USA  2016    YR2016   \n",
       "3    United States          USA  2017    YR2017   \n",
       "4    United States          USA  2018    YR2018   \n",
       "..             ...          ...   ...       ...   \n",
       "195          China          CHN  2019    YR2019   \n",
       "196          China          CHN  2020    YR2020   \n",
       "197          China          CHN  2021    YR2021   \n",
       "198          China          CHN  2022    YR2022   \n",
       "199          China          CHN  2023    YR2023   \n",
       "\n",
       "    Tax revenue (% of GDP) [GC.TAX.TOTL.GD.ZS]  \\\n",
       "0                                  10.89974817   \n",
       "1                                  11.18282796   \n",
       "2                                  10.85451499   \n",
       "3                                  11.50388673   \n",
       "4                                  9.929538941   \n",
       "..                                         ...   \n",
       "195                                 8.49286377   \n",
       "196                                8.090626216   \n",
       "197                                7.965128046   \n",
       "198                                7.700873217   \n",
       "199                                         ..   \n",
       "\n",
       "    Inflation, consumer prices (annual %) [FP.CPI.TOTL.ZG]  \\\n",
       "0                                          1.622222977       \n",
       "1                                          0.118627136       \n",
       "2                                          1.261583206       \n",
       "3                                          2.130110004       \n",
       "4                                          2.442583297       \n",
       "..                                                 ...       \n",
       "195                                        2.899234164       \n",
       "196                                        2.419421895       \n",
       "197                                        0.981015136       \n",
       "198                                        1.973575557       \n",
       "199                                        0.234836829       \n",
       "\n",
       "     GDP (current US$) [NY.GDP.MKTP.CD]  \n",
       "0                          1.760000e+13  \n",
       "1                          1.830000e+13  \n",
       "2                          1.880000e+13  \n",
       "3                          1.960000e+13  \n",
       "4                          2.070000e+13  \n",
       "..                                  ...  \n",
       "195                        1.430000e+13  \n",
       "196                        1.470000e+13  \n",
       "197                        1.780000e+13  \n",
       "198                        1.790000e+13  \n",
       "199                        1.780000e+13  \n",
       "\n",
       "[200 rows x 7 columns]"
      ]
     },
     "execution_count": 3,
     "metadata": {},
     "output_type": "execute_result"
    }
   ],
   "source": [
    "df"
   ]
  },
  {
   "cell_type": "code",
   "execution_count": 4,
   "id": "36b6adb4-38b0-465f-877e-d4c92be13235",
   "metadata": {},
   "outputs": [],
   "source": [
    "# Rename columns for easier access\n",
    "df.rename(columns={\n",
    "    \"Tax revenue (% of GDP) [GC.TAX.TOTL.GD.ZS]\": \"TaxRevenue_GDP\",\n",
    "    \"Inflation, consumer prices (annual %) [FP.CPI.TOTL.ZG]\": \"Inflation\",\n",
    "    \"GDP (current US$) [NY.GDP.MKTP.CD]\": \"GDP\"\n",
    "}, inplace=True)"
   ]
  },
  {
   "cell_type": "code",
   "execution_count": 5,
   "id": "5f398b67-33de-4630-8af5-16d20c714cbf",
   "metadata": {},
   "outputs": [],
   "source": [
    "# Convert to numeric types\n",
    "df[\"TaxRevenue_GDP\"] = pd.to_numeric(df[\"TaxRevenue_GDP\"], errors='coerce')\n",
    "df[\"Inflation\"] = pd.to_numeric(df[\"Inflation\"], errors='coerce')\n",
    "df[\"GDP\"] = pd.to_numeric(df[\"GDP\"], errors='coerce')"
   ]
  },
  {
   "cell_type": "code",
   "execution_count": 6,
   "id": "73b020d6-2d03-4108-87b9-f351e752e563",
   "metadata": {},
   "outputs": [],
   "source": [
    "# Drop missing values\n",
    "df = df.dropna(subset=[\"Country Name\", \"Time\", \"TaxRevenue_GDP\", \"Inflation\", \"GDP\"])"
   ]
  },
  {
   "cell_type": "code",
   "execution_count": 7,
   "id": "7b6db234-ee92-4c29-a012-8ac84120cb36",
   "metadata": {},
   "outputs": [],
   "source": [
    "# Filter top 20 GDP countries\n",
    "top_20_countries = df.groupby(\"Country Name\")[\"GDP\"].mean().nlargest(20).index\n",
    "df = df[df[\"Country Name\"].isin(top_20_countries)]"
   ]
  },
  {
   "cell_type": "code",
   "execution_count": 8,
   "id": "d8086a13-9262-4b03-a214-7813415e0ea9",
   "metadata": {},
   "outputs": [
    {
     "name": "stdout",
     "output_type": "stream",
     "text": [
      "Pearson Correlation: 0.014498288205605853, P-Value: 0.8502756801317519\n"
     ]
    }
   ],
   "source": [
    "# Correlation Analysis\n",
    "corr, p_value = pearsonr(df[\"TaxRevenue_GDP\"], df[\"Inflation\"])\n",
    "print(f\"Pearson Correlation: {corr}, P-Value: {p_value}\")"
   ]
  },
  {
   "cell_type": "code",
   "execution_count": 9,
   "id": "d1304222-993d-427c-a24b-b9e6a146b54b",
   "metadata": {},
   "outputs": [
    {
     "data": {
      "image/png": "[encoded data removed]",
      "text/plain": [
       "<Figure size 1000x500 with 1 Axes>"
      ]
     },
     "metadata": {},
     "output_type": "display_data"
    }
   ],
   "source": [
    "# Scatter Plot\n",
    "plt.figure(figsize=(10, 5))\n",
    "sns.regplot(x=df[\"TaxRevenue_GDP\"], y=df[\"Inflation\"], line_kws={\"color\": \"red\"})\n",
    "plt.xlabel(\"Tax Revenue (% of GDP)\")\n",
    "plt.ylabel(\"Inflation Rate (%)\")\n",
    "plt.title(\"Tax Revenue vs Inflation\")\n",
    "plt.show()"
   ]
  },
  {
   "cell_type": "code",
   "execution_count": 10,
   "id": "55465308-bf71-42aa-8888-bcd0a1318ff6",
   "metadata": {},
   "outputs": [
    {
     "name": "stdout",
     "output_type": "stream",
     "text": [
      "                            OLS Regression Results                            \n",
      "==============================================================================\n",
      "Dep. Variable:              Inflation   R-squared:                       0.000\n",
      "Model:                            OLS   Adj. R-squared:                 -0.006\n",
      "Method:                 Least Squares   F-statistic:                   0.03574\n",
      "Date:                Thu, 20 Feb 2025   Prob (F-statistic):              0.850\n",
      "Time:                        14:27:04   Log-Likelihood:                -559.08\n",
      "No. Observations:                 172   AIC:                             1122.\n",
      "Df Residuals:                     170   BIC:                             1128.\n",
      "Df Model:                           1                                         \n",
      "Covariance Type:            nonrobust                                         \n",
      "==================================================================================\n",
      "                     coef    std err          t      P>|t|      [0.025      0.975]\n",
      "----------------------------------------------------------------------------------\n",
      "const              3.3931      1.288      2.635      0.009       0.851       5.935\n",
      "TaxRevenue_GDP     0.0150      0.080      0.189      0.850      -0.142       0.172\n",
      "==============================================================================\n",
      "Omnibus:                      291.985   Durbin-Watson:                   1.350\n",
      "Prob(Omnibus):                  0.000   Jarque-Bera (JB):            50831.491\n",
      "Skew:                           7.979   Prob(JB):                         0.00\n",
      "Kurtosis:                      85.693   Cond. No.                         43.7\n",
      "==============================================================================\n",
      "\n",
      "Notes:\n",
      "[1] Standard Errors assume that the covariance matrix of the errors is correctly specified.\n"
     ]
    }
   ],
   "source": [
    "# Regression Analysis\n",
    "X = sm.add_constant(df[\"TaxRevenue_GDP\"])  # Add constant for intercept\n",
    "y = df[\"Inflation\"]\n",
    "model = sm.OLS(y, X).fit()\n",
    "print(model.summary())"
   ]
  },
  {
   "cell_type": "code",
   "execution_count": null,
   "id": "8ad9237b-d2c5-4a04-aa1d-6de2d1ebd544",
   "metadata": {},
   "outputs": [],
   "source": []
  }
 ],
 "metadata": {
  "kernelspec": {
   "display_name": "Python 3 (ipykernel)",
   "language": "python",
   "name": "python3"
  },
  "language_info": {
   "codemirror_mode": {
    "name": "ipython",
    "version": 3
   },
   "file_extension": ".py",
   "mimetype": "text/x-python",
   "name": "python",
   "nbconvert_exporter": "python",
   "pygments_lexer": "ipython3",
   "version": "3.11.5"
  }
 },
 "nbformat": 4,
 "nbformat_minor": 5
}
